{
 "cells": [
  {
   "cell_type": "code",
   "execution_count": 1,
   "metadata": {},
   "outputs": [
    {
     "name": "stdout",
     "output_type": "stream",
     "text": [
      "9\n"
     ]
    }
   ],
   "source": [
    "def max_(a,b):\n",
    "    return max(a,b)\n",
    "print(max_(9,8))"
   ]
  },
  {
   "cell_type": "code",
   "execution_count": 2,
   "metadata": {},
   "outputs": [
    {
     "name": "stdout",
     "output_type": "stream",
     "text": [
      "fizz\n"
     ]
    }
   ],
   "source": [
    "def fizz_buzz(x):\n",
    "    if x%3==0:\n",
    "        print(\"fizz\")\n",
    "    elif x%5==0:\n",
    "        print(\"buzz\")\n",
    "    elif x%5==0 and x%3==0:\n",
    "        print(\"fizzbuzz\")\n",
    "    else:\n",
    "        print(x)\n",
    "fizz_buzz(6)"
   ]
  },
  {
   "cell_type": "code",
   "execution_count": 7,
   "metadata": {},
   "outputs": [
    {
     "name": "stdout",
     "output_type": "stream",
     "text": [
      "ok\n"
     ]
    }
   ],
   "source": [
    "def check_speed(x):\n",
    "    y=x-70\n",
    "    z=y//5\n",
    "    if x<=70:\n",
    "        print(\"ok\")\n",
    "    elif (z>0       ):\n",
    "        print(\"points\",z)\n",
    "        if z>12:\n",
    "            print(\"licence suspended\")\n",
    "check_speed(70)\n",
    "    "
   ]
  },
  {
   "cell_type": "code",
   "execution_count": 13,
   "metadata": {},
   "outputs": [
    {
     "name": "stdout",
     "output_type": "stream",
     "text": [
      "1 odd\n",
      "2 even\n",
      "3 odd\n",
      "4 even\n",
      "5 odd\n",
      "6 even\n",
      "7 odd\n",
      "8 even\n",
      "9 odd\n"
     ]
    }
   ],
   "source": [
    "def shownumbers(limit):\n",
    "    for x in range (1,limit+1):\n",
    "        if x%2==0:\n",
    "            z=\"even\"\n",
    "        else:\n",
    "            z=\"odd\"\n",
    "    \n",
    "        print (str(x)+\" \"+z)\n",
    "\n",
    "        \n",
    "shownumbers(9)"
   ]
  },
  {
   "cell_type": "code",
   "execution_count": 21,
   "metadata": {},
   "outputs": [
    {
     "name": "stdout",
     "output_type": "stream",
     "text": [
      "98\n"
     ]
    }
   ],
   "source": [
    "def sum(x):\n",
    "    sum=0\n",
    "    for i in range(1,x+1):\n",
    "        if i%3==0 or i%5==0:\n",
    "            sum=sum+i\n",
    "    return sum\n",
    "\n",
    "\n",
    "print(sum(20))"
   ]
  },
  {
   "cell_type": "code",
   "execution_count": null,
   "metadata": {},
   "outputs": [],
   "source": []
  }
 ],
 "metadata": {
  "kernelspec": {
   "display_name": "Python 3",
   "language": "python",
   "name": "python3"
  },
  "language_info": {
   "codemirror_mode": {
    "name": "ipython",
    "version": 3
   },
   "file_extension": ".py",
   "mimetype": "text/x-python",
   "name": "python",
   "nbconvert_exporter": "python",
   "pygments_lexer": "ipython3",
   "version": "3.7.6"
  }
 },
 "nbformat": 4,
 "nbformat_minor": 4
}
